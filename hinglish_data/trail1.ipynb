{
 "cells": [
  {
   "cell_type": "code",
   "execution_count": 1,
   "metadata": {},
   "outputs": [
    {
     "name": "stdout",
     "output_type": "stream",
     "text": [
      "Requirement already satisfied: pandas in /opt/anaconda3/lib/python3.12/site-packages (2.2.3)\n",
      "Requirement already satisfied: emoji in /opt/anaconda3/lib/python3.12/site-packages (2.14.1)\n",
      "Requirement already satisfied: langdetect in /opt/anaconda3/lib/python3.12/site-packages (1.0.9)\n",
      "Requirement already satisfied: indic-transliteration in /opt/anaconda3/lib/python3.12/site-packages (2.3.69)\n",
      "Requirement already satisfied: openpyxl in /opt/anaconda3/lib/python3.12/site-packages (3.1.5)\n",
      "Requirement already satisfied: numpy>=1.26.0 in /opt/anaconda3/lib/python3.12/site-packages (from pandas) (1.26.4)\n",
      "Requirement already satisfied: python-dateutil>=2.8.2 in /opt/anaconda3/lib/python3.12/site-packages (from pandas) (2.9.0.post0)\n",
      "Requirement already satisfied: pytz>=2020.1 in /opt/anaconda3/lib/python3.12/site-packages (from pandas) (2024.1)\n",
      "Requirement already satisfied: tzdata>=2022.7 in /opt/anaconda3/lib/python3.12/site-packages (from pandas) (2023.3)\n",
      "Requirement already satisfied: six in /opt/anaconda3/lib/python3.12/site-packages (from langdetect) (1.16.0)\n",
      "Requirement already satisfied: backports.functools-lru-cache in /opt/anaconda3/lib/python3.12/site-packages (from indic-transliteration) (2.0.0)\n",
      "Requirement already satisfied: regex in /opt/anaconda3/lib/python3.12/site-packages (from indic-transliteration) (2024.9.11)\n",
      "Requirement already satisfied: typer in /opt/anaconda3/lib/python3.12/site-packages (from indic-transliteration) (0.9.4)\n",
      "Requirement already satisfied: toml in /opt/anaconda3/lib/python3.12/site-packages (from indic-transliteration) (0.10.2)\n",
      "Requirement already satisfied: roman in /opt/anaconda3/lib/python3.12/site-packages (from indic-transliteration) (5.0)\n",
      "Requirement already satisfied: et-xmlfile in /opt/anaconda3/lib/python3.12/site-packages (from openpyxl) (1.1.0)\n",
      "Requirement already satisfied: click<9.0.0,>=7.1.1 in /opt/anaconda3/lib/python3.12/site-packages (from typer->indic-transliteration) (8.1.7)\n",
      "Requirement already satisfied: typing-extensions>=3.7.4.3 in /opt/anaconda3/lib/python3.12/site-packages (from typer->indic-transliteration) (4.11.0)\n"
     ]
    }
   ],
   "source": [
    "!pip install pandas emoji langdetect indic-transliteration openpyxl"
   ]
  },
  {
   "cell_type": "code",
   "execution_count": 2,
   "metadata": {},
   "outputs": [],
   "source": [
    "import pandas as pd\n",
    "import re\n",
    "import emoji\n",
    "from langdetect import detect, DetectorFactory\n",
    "from indic_transliteration.sanscript import transliterate\n",
    "from indic_transliteration import sanscript"
   ]
  },
  {
   "cell_type": "code",
   "execution_count": 3,
   "metadata": {},
   "outputs": [],
   "source": [
    "# Ensure reproducibility for langdetect\n",
    "DetectorFactory.seed = 0"
   ]
  },
  {
   "cell_type": "code",
   "execution_count": 4,
   "metadata": {},
   "outputs": [],
   "source": [
    "# Load the Excel file\n",
    "file_path = 'Indo-HateSpeech_Dataset-dc1.xlsx'\n",
    "df = pd.read_excel(file_path, sheet_name='PostID Edited Comments Hindi')"
   ]
  },
  {
   "cell_type": "code",
   "execution_count": 5,
   "metadata": {},
   "outputs": [],
   "source": [
    "# Function to clean comment\n",
    "def clean_comment(comment):\n",
    "    if not isinstance(comment, str):\n",
    "        return ''\n",
    "    # Remove @mentions with . _ and numbers (e.g., @user.name_123)\n",
    "    comment = re.sub(r'@\\S+', '', comment)\n",
    "    # Replace emojis with descriptive text\n",
    "    comment = emoji.demojize(comment, delimiters=(\" \", \" \"))\n",
    "    # Remove extra whitespace\n",
    "    comment = re.sub(r'\\s+', ' ', comment).strip()\n",
    "    return comment"
   ]
  },
  {
   "cell_type": "code",
   "execution_count": 6,
   "metadata": {},
   "outputs": [],
   "source": [
    "# Detect language\n",
    "def get_language(text):\n",
    "    try:\n",
    "        return detect(text)\n",
    "    except:\n",
    "        return 'unknown'"
   ]
  },
  {
   "cell_type": "code",
   "execution_count": 7,
   "metadata": {},
   "outputs": [],
   "source": [
    "# Custom fix to make transliteration more readable\n",
    "def fix_transliteration(text):\n",
    "    replacements = {\n",
    "        'aa': 'a', 'ii': 'i', 'uu': 'u',\n",
    "        'A': 'aa', 'I': 'ee', 'U': 'oo',\n",
    "        'M': 'n', 'shh': 'sh', 'chh': 'chh',\n",
    "        'kh': 'kh', 'gh': 'gh', 'th': 'th', 'dh': 'dh',\n",
    "        'ph': 'ph', 'bh': 'bh', 'v': 'v',\n",
    "    }\n",
    "    for old, new in replacements.items():\n",
    "        text = text.replace(old, new)\n",
    "    return text.lower()"
   ]
  },
  {
   "cell_type": "code",
   "execution_count": 8,
   "metadata": {},
   "outputs": [],
   "source": [
    "# Transliterate if not English\n",
    "def transliterate_if_needed(comment, lang):\n",
    "    if lang != 'en':\n",
    "        try:\n",
    "            raw = transliterate(comment, sanscript.DEVANAGARI, sanscript.ITRANS)\n",
    "            return fix_transliteration(raw)\n",
    "        except:\n",
    "            return comment\n",
    "    return comment"
   ]
  },
  {
   "cell_type": "code",
   "execution_count": 9,
   "metadata": {},
   "outputs": [],
   "source": [
    "# Apply cleaning\n",
    "df['Cleaned_Comment'] = df['Comment'].apply(clean_comment)\n",
    "df['Lang'] = df['Cleaned_Comment'].apply(get_language)\n",
    "df['Transliterated_Comment'] = df.apply(\n",
    "    lambda row: transliterate_if_needed(row['Cleaned_Comment'], row['Lang']), axis=1\n",
    ")"
   ]
  },
  {
   "cell_type": "code",
   "execution_count": 10,
   "metadata": {},
   "outputs": [],
   "source": [
    "# Save to CSV\n",
    "final_df = df[['Comment', 'Cleaned_Comment', 'Transliterated_Comment']]\n",
    "final_df.columns = ['Original_Comment', 'Cleaned_Comment', 'Transliterated_Comment']\n",
    "final_df.to_csv('Transliterated_Comments.csv', index=False)"
   ]
  }
 ],
 "metadata": {
  "kernelspec": {
   "display_name": "base",
   "language": "python",
   "name": "python3"
  },
  "language_info": {
   "codemirror_mode": {
    "name": "ipython",
    "version": 3
   },
   "file_extension": ".py",
   "mimetype": "text/x-python",
   "name": "python",
   "nbconvert_exporter": "python",
   "pygments_lexer": "ipython3",
   "version": "3.12.2"
  },
  "orig_nbformat": 4
 },
 "nbformat": 4,
 "nbformat_minor": 2
}
