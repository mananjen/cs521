{
 "cells": [
  {
   "cell_type": "code",
   "execution_count": 1,
   "metadata": {},
   "outputs": [
    {
     "name": "stdout",
     "output_type": "stream",
     "text": [
      "Requirement already satisfied: pandas in /opt/anaconda3/lib/python3.12/site-packages (2.2.3)\n",
      "Requirement already satisfied: emoji in /opt/anaconda3/lib/python3.12/site-packages (2.14.1)\n",
      "Requirement already satisfied: langdetect in /opt/anaconda3/lib/python3.12/site-packages (1.0.9)\n",
      "Requirement already satisfied: indic-transliteration in /opt/anaconda3/lib/python3.12/site-packages (2.3.69)\n",
      "Requirement already satisfied: openpyxl in /opt/anaconda3/lib/python3.12/site-packages (3.1.5)\n",
      "Requirement already satisfied: numpy>=1.26.0 in /opt/anaconda3/lib/python3.12/site-packages (from pandas) (1.26.4)\n",
      "Requirement already satisfied: python-dateutil>=2.8.2 in /opt/anaconda3/lib/python3.12/site-packages (from pandas) (2.9.0.post0)\n",
      "Requirement already satisfied: pytz>=2020.1 in /opt/anaconda3/lib/python3.12/site-packages (from pandas) (2024.1)\n",
      "Requirement already satisfied: tzdata>=2022.7 in /opt/anaconda3/lib/python3.12/site-packages (from pandas) (2023.3)\n",
      "Requirement already satisfied: six in /opt/anaconda3/lib/python3.12/site-packages (from langdetect) (1.16.0)\n",
      "Requirement already satisfied: backports.functools-lru-cache in /opt/anaconda3/lib/python3.12/site-packages (from indic-transliteration) (2.0.0)\n",
      "Requirement already satisfied: regex in /opt/anaconda3/lib/python3.12/site-packages (from indic-transliteration) (2024.9.11)\n",
      "Requirement already satisfied: typer in /opt/anaconda3/lib/python3.12/site-packages (from indic-transliteration) (0.9.4)\n",
      "Requirement already satisfied: toml in /opt/anaconda3/lib/python3.12/site-packages (from indic-transliteration) (0.10.2)\n",
      "Requirement already satisfied: roman in /opt/anaconda3/lib/python3.12/site-packages (from indic-transliteration) (5.0)\n",
      "Requirement already satisfied: et-xmlfile in /opt/anaconda3/lib/python3.12/site-packages (from openpyxl) (1.1.0)\n",
      "Requirement already satisfied: click<9.0.0,>=7.1.1 in /opt/anaconda3/lib/python3.12/site-packages (from typer->indic-transliteration) (8.1.7)\n",
      "Requirement already satisfied: typing-extensions>=3.7.4.3 in /opt/anaconda3/lib/python3.12/site-packages (from typer->indic-transliteration) (4.11.0)\n"
     ]
    }
   ],
   "source": [
    "!pip install pandas emoji langdetect indic-transliteration openpyxl"
   ]
  },
  {
   "cell_type": "code",
   "execution_count": 2,
   "metadata": {},
   "outputs": [],
   "source": [
    "import pandas as pd\n",
    "import re\n",
    "import emoji\n",
    "from langdetect import detect, DetectorFactory\n",
    "from indic_transliteration.sanscript import transliterate\n",
    "from indic_transliteration import sanscript\n",
    "from datetime import datetime"
   ]
  },
  {
   "cell_type": "code",
   "execution_count": 3,
   "metadata": {},
   "outputs": [],
   "source": [
    "# Ensure reproducibility for langdetect\n",
    "DetectorFactory.seed = 0"
   ]
  },
  {
   "cell_type": "code",
   "execution_count": 4,
   "metadata": {},
   "outputs": [
    {
     "ename": "ValueError",
     "evalue": "Worksheet named 'PostID Edited Comments Hindi' not found",
     "output_type": "error",
     "traceback": [
      "\u001b[0;31m---------------------------------------------------------------------------\u001b[0m",
      "\u001b[0;31mValueError\u001b[0m                                Traceback (most recent call last)",
      "Cell \u001b[0;32mIn[4], line 3\u001b[0m\n\u001b[1;32m      1\u001b[0m \u001b[39m# Load the Excel file\u001b[39;00m\n\u001b[1;32m      2\u001b[0m file_path \u001b[39m=\u001b[39m \u001b[39m'\u001b[39m\u001b[39m/Users/hemanthnagulapalli/Documents/GitHub/cs521/English-Hindi code-mixed parallel corpus.xlsx\u001b[39m\u001b[39m'\u001b[39m\n\u001b[0;32m----> 3\u001b[0m df \u001b[39m=\u001b[39m pd\u001b[39m.\u001b[39mread_excel(file_path, sheet_name\u001b[39m=\u001b[39m\u001b[39m'\u001b[39m\u001b[39mPostID Edited Comments Hindi\u001b[39m\u001b[39m'\u001b[39m)\n",
      "File \u001b[0;32m/opt/anaconda3/lib/python3.12/site-packages/pandas/io/excel/_base.py:508\u001b[0m, in \u001b[0;36mread_excel\u001b[0;34m(io, sheet_name, header, names, index_col, usecols, dtype, engine, converters, true_values, false_values, skiprows, nrows, na_values, keep_default_na, na_filter, verbose, parse_dates, date_parser, date_format, thousands, decimal, comment, skipfooter, storage_options, dtype_backend, engine_kwargs)\u001b[0m\n\u001b[1;32m    502\u001b[0m     \u001b[39mraise\u001b[39;00m \u001b[39mValueError\u001b[39;00m(\n\u001b[1;32m    503\u001b[0m         \u001b[39m\"\u001b[39m\u001b[39mEngine should not be specified when passing \u001b[39m\u001b[39m\"\u001b[39m\n\u001b[1;32m    504\u001b[0m         \u001b[39m\"\u001b[39m\u001b[39man ExcelFile - ExcelFile already has the engine set\u001b[39m\u001b[39m\"\u001b[39m\n\u001b[1;32m    505\u001b[0m     )\n\u001b[1;32m    507\u001b[0m \u001b[39mtry\u001b[39;00m:\n\u001b[0;32m--> 508\u001b[0m     data \u001b[39m=\u001b[39m io\u001b[39m.\u001b[39mparse(\n\u001b[1;32m    509\u001b[0m         sheet_name\u001b[39m=\u001b[39msheet_name,\n\u001b[1;32m    510\u001b[0m         header\u001b[39m=\u001b[39mheader,\n\u001b[1;32m    511\u001b[0m         names\u001b[39m=\u001b[39mnames,\n\u001b[1;32m    512\u001b[0m         index_col\u001b[39m=\u001b[39mindex_col,\n\u001b[1;32m    513\u001b[0m         usecols\u001b[39m=\u001b[39musecols,\n\u001b[1;32m    514\u001b[0m         dtype\u001b[39m=\u001b[39mdtype,\n\u001b[1;32m    515\u001b[0m         converters\u001b[39m=\u001b[39mconverters,\n\u001b[1;32m    516\u001b[0m         true_values\u001b[39m=\u001b[39mtrue_values,\n\u001b[1;32m    517\u001b[0m         false_values\u001b[39m=\u001b[39mfalse_values,\n\u001b[1;32m    518\u001b[0m         skiprows\u001b[39m=\u001b[39mskiprows,\n\u001b[1;32m    519\u001b[0m         nrows\u001b[39m=\u001b[39mnrows,\n\u001b[1;32m    520\u001b[0m         na_values\u001b[39m=\u001b[39mna_values,\n\u001b[1;32m    521\u001b[0m         keep_default_na\u001b[39m=\u001b[39mkeep_default_na,\n\u001b[1;32m    522\u001b[0m         na_filter\u001b[39m=\u001b[39mna_filter,\n\u001b[1;32m    523\u001b[0m         verbose\u001b[39m=\u001b[39mverbose,\n\u001b[1;32m    524\u001b[0m         parse_dates\u001b[39m=\u001b[39mparse_dates,\n\u001b[1;32m    525\u001b[0m         date_parser\u001b[39m=\u001b[39mdate_parser,\n\u001b[1;32m    526\u001b[0m         date_format\u001b[39m=\u001b[39mdate_format,\n\u001b[1;32m    527\u001b[0m         thousands\u001b[39m=\u001b[39mthousands,\n\u001b[1;32m    528\u001b[0m         decimal\u001b[39m=\u001b[39mdecimal,\n\u001b[1;32m    529\u001b[0m         comment\u001b[39m=\u001b[39mcomment,\n\u001b[1;32m    530\u001b[0m         skipfooter\u001b[39m=\u001b[39mskipfooter,\n\u001b[1;32m    531\u001b[0m         dtype_backend\u001b[39m=\u001b[39mdtype_backend,\n\u001b[1;32m    532\u001b[0m     )\n\u001b[1;32m    533\u001b[0m \u001b[39mfinally\u001b[39;00m:\n\u001b[1;32m    534\u001b[0m     \u001b[39m# make sure to close opened file handles\u001b[39;00m\n\u001b[1;32m    535\u001b[0m     \u001b[39mif\u001b[39;00m should_close:\n",
      "File \u001b[0;32m/opt/anaconda3/lib/python3.12/site-packages/pandas/io/excel/_base.py:1616\u001b[0m, in \u001b[0;36mExcelFile.parse\u001b[0;34m(self, sheet_name, header, names, index_col, usecols, converters, true_values, false_values, skiprows, nrows, na_values, parse_dates, date_parser, date_format, thousands, comment, skipfooter, dtype_backend, **kwds)\u001b[0m\n\u001b[1;32m   1576\u001b[0m \u001b[39mdef\u001b[39;00m \u001b[39mparse\u001b[39m(\n\u001b[1;32m   1577\u001b[0m     \u001b[39mself\u001b[39m,\n\u001b[1;32m   1578\u001b[0m     sheet_name: \u001b[39mstr\u001b[39m \u001b[39m|\u001b[39m \u001b[39mint\u001b[39m \u001b[39m|\u001b[39m \u001b[39mlist\u001b[39m[\u001b[39mint\u001b[39m] \u001b[39m|\u001b[39m \u001b[39mlist\u001b[39m[\u001b[39mstr\u001b[39m] \u001b[39m|\u001b[39m \u001b[39mNone\u001b[39;00m \u001b[39m=\u001b[39m \u001b[39m0\u001b[39m,\n\u001b[0;32m   (...)\u001b[0m\n\u001b[1;32m   1596\u001b[0m     \u001b[39m*\u001b[39m\u001b[39m*\u001b[39mkwds,\n\u001b[1;32m   1597\u001b[0m ) \u001b[39m-\u001b[39m\u001b[39m>\u001b[39m DataFrame \u001b[39m|\u001b[39m \u001b[39mdict\u001b[39m[\u001b[39mstr\u001b[39m, DataFrame] \u001b[39m|\u001b[39m \u001b[39mdict\u001b[39m[\u001b[39mint\u001b[39m, DataFrame]:\n\u001b[1;32m   1598\u001b[0m \u001b[39m    \u001b[39m\u001b[39m\"\"\"\u001b[39;00m\n\u001b[1;32m   1599\u001b[0m \u001b[39m    Parse specified sheet(s) into a DataFrame.\u001b[39;00m\n\u001b[1;32m   1600\u001b[0m \n\u001b[0;32m   (...)\u001b[0m\n\u001b[1;32m   1614\u001b[0m \u001b[39m    >>> file.parse()  # doctest: +SKIP\u001b[39;00m\n\u001b[1;32m   1615\u001b[0m \u001b[39m    \"\"\"\u001b[39;00m\n\u001b[0;32m-> 1616\u001b[0m     \u001b[39mreturn\u001b[39;00m \u001b[39mself\u001b[39m\u001b[39m.\u001b[39m_reader\u001b[39m.\u001b[39mparse(\n\u001b[1;32m   1617\u001b[0m         sheet_name\u001b[39m=\u001b[39msheet_name,\n\u001b[1;32m   1618\u001b[0m         header\u001b[39m=\u001b[39mheader,\n\u001b[1;32m   1619\u001b[0m         names\u001b[39m=\u001b[39mnames,\n\u001b[1;32m   1620\u001b[0m         index_col\u001b[39m=\u001b[39mindex_col,\n\u001b[1;32m   1621\u001b[0m         usecols\u001b[39m=\u001b[39musecols,\n\u001b[1;32m   1622\u001b[0m         converters\u001b[39m=\u001b[39mconverters,\n\u001b[1;32m   1623\u001b[0m         true_values\u001b[39m=\u001b[39mtrue_values,\n\u001b[1;32m   1624\u001b[0m         false_values\u001b[39m=\u001b[39mfalse_values,\n\u001b[1;32m   1625\u001b[0m         skiprows\u001b[39m=\u001b[39mskiprows,\n\u001b[1;32m   1626\u001b[0m         nrows\u001b[39m=\u001b[39mnrows,\n\u001b[1;32m   1627\u001b[0m         na_values\u001b[39m=\u001b[39mna_values,\n\u001b[1;32m   1628\u001b[0m         parse_dates\u001b[39m=\u001b[39mparse_dates,\n\u001b[1;32m   1629\u001b[0m         date_parser\u001b[39m=\u001b[39mdate_parser,\n\u001b[1;32m   1630\u001b[0m         date_format\u001b[39m=\u001b[39mdate_format,\n\u001b[1;32m   1631\u001b[0m         thousands\u001b[39m=\u001b[39mthousands,\n\u001b[1;32m   1632\u001b[0m         comment\u001b[39m=\u001b[39mcomment,\n\u001b[1;32m   1633\u001b[0m         skipfooter\u001b[39m=\u001b[39mskipfooter,\n\u001b[1;32m   1634\u001b[0m         dtype_backend\u001b[39m=\u001b[39mdtype_backend,\n\u001b[1;32m   1635\u001b[0m         \u001b[39m*\u001b[39m\u001b[39m*\u001b[39mkwds,\n\u001b[1;32m   1636\u001b[0m     )\n",
      "File \u001b[0;32m/opt/anaconda3/lib/python3.12/site-packages/pandas/io/excel/_base.py:773\u001b[0m, in \u001b[0;36mBaseExcelReader.parse\u001b[0;34m(self, sheet_name, header, names, index_col, usecols, dtype, true_values, false_values, skiprows, nrows, na_values, verbose, parse_dates, date_parser, date_format, thousands, decimal, comment, skipfooter, dtype_backend, **kwds)\u001b[0m\n\u001b[1;32m    770\u001b[0m     \u001b[39mprint\u001b[39m(\u001b[39mf\u001b[39m\u001b[39m\"\u001b[39m\u001b[39mReading sheet \u001b[39m\u001b[39m{\u001b[39;00masheetname\u001b[39m}\u001b[39;00m\u001b[39m\"\u001b[39m)\n\u001b[1;32m    772\u001b[0m \u001b[39mif\u001b[39;00m \u001b[39misinstance\u001b[39m(asheetname, \u001b[39mstr\u001b[39m):\n\u001b[0;32m--> 773\u001b[0m     sheet \u001b[39m=\u001b[39m \u001b[39mself\u001b[39m\u001b[39m.\u001b[39mget_sheet_by_name(asheetname)\n\u001b[1;32m    774\u001b[0m \u001b[39melse\u001b[39;00m:  \u001b[39m# assume an integer if not a string\u001b[39;00m\n\u001b[1;32m    775\u001b[0m     sheet \u001b[39m=\u001b[39m \u001b[39mself\u001b[39m\u001b[39m.\u001b[39mget_sheet_by_index(asheetname)\n",
      "File \u001b[0;32m/opt/anaconda3/lib/python3.12/site-packages/pandas/io/excel/_openpyxl.py:582\u001b[0m, in \u001b[0;36mOpenpyxlReader.get_sheet_by_name\u001b[0;34m(self, name)\u001b[0m\n\u001b[1;32m    581\u001b[0m \u001b[39mdef\u001b[39;00m \u001b[39mget_sheet_by_name\u001b[39m(\u001b[39mself\u001b[39m, name: \u001b[39mstr\u001b[39m):\n\u001b[0;32m--> 582\u001b[0m     \u001b[39mself\u001b[39m\u001b[39m.\u001b[39mraise_if_bad_sheet_by_name(name)\n\u001b[1;32m    583\u001b[0m     \u001b[39mreturn\u001b[39;00m \u001b[39mself\u001b[39m\u001b[39m.\u001b[39mbook[name]\n",
      "File \u001b[0;32m/opt/anaconda3/lib/python3.12/site-packages/pandas/io/excel/_base.py:624\u001b[0m, in \u001b[0;36mBaseExcelReader.raise_if_bad_sheet_by_name\u001b[0;34m(self, name)\u001b[0m\n\u001b[1;32m    622\u001b[0m \u001b[39mdef\u001b[39;00m \u001b[39mraise_if_bad_sheet_by_name\u001b[39m(\u001b[39mself\u001b[39m, name: \u001b[39mstr\u001b[39m) \u001b[39m-\u001b[39m\u001b[39m>\u001b[39m \u001b[39mNone\u001b[39;00m:\n\u001b[1;32m    623\u001b[0m     \u001b[39mif\u001b[39;00m name \u001b[39mnot\u001b[39;00m \u001b[39min\u001b[39;00m \u001b[39mself\u001b[39m\u001b[39m.\u001b[39msheet_names:\n\u001b[0;32m--> 624\u001b[0m         \u001b[39mraise\u001b[39;00m \u001b[39mValueError\u001b[39;00m(\u001b[39mf\u001b[39m\u001b[39m\"\u001b[39m\u001b[39mWorksheet named \u001b[39m\u001b[39m'\u001b[39m\u001b[39m{\u001b[39;00mname\u001b[39m}\u001b[39;00m\u001b[39m'\u001b[39m\u001b[39m not found\u001b[39m\u001b[39m\"\u001b[39m)\n",
      "\u001b[0;31mValueError\u001b[0m: Worksheet named 'PostID Edited Comments Hindi' not found"
     ]
    }
   ],
   "source": [
    "# Load the Excel file\n",
    "file_path = '/Users/hemanthnagulapalli/Documents/GitHub/cs521/English-Hindi code-mixed parallel corpus.xlsx'\n",
    "df = pd.read_excel(file_path)"
   ]
  },
  {
   "cell_type": "code",
   "execution_count": null,
   "metadata": {},
   "outputs": [],
   "source": [
    "# Function to clean comment\n",
    "def clean_comment(comment):\n",
    "    if not isinstance(comment, str):\n",
    "        return ''\n",
    "    # Remove @mentions with . _ and numbers (e.g., @user.name_123)\n",
    "    comment = re.sub(r'@\\S+', '', comment)\n",
    "    # Replace emojis with descriptive text\n",
    "    comment = emoji.demojize(comment, delimiters=(\" \", \" \"))\n",
    "    # Remove links\n",
    "    comment = ' '.join(word for word in comment.split() if 'https:' not in word) \n",
    "    # Remove extra whitespace\n",
    "    comment = re.sub(r'\\s+', ' ', comment).strip()\n",
    "    return comment"
   ]
  },
  {
   "cell_type": "code",
   "execution_count": null,
   "metadata": {},
   "outputs": [],
   "source": [
    "# Detect language\n",
    "def get_language(text):\n",
    "    try:\n",
    "        return detect(text)\n",
    "    except:\n",
    "        return 'unknown'"
   ]
  },
  {
   "cell_type": "code",
   "execution_count": null,
   "metadata": {},
   "outputs": [],
   "source": [
    "# Custom fix to make transliteration more readable\n",
    "def fix_transliteration(text):\n",
    "    replacements = {\n",
    "        'aa': 'a', 'ii': 'i', 'uu': 'u',\n",
    "        'A': 'aa', 'I': 'ee', 'U': 'oo',\n",
    "        'M': 'n', 'shh': 'sh', 'chh': 'chh',\n",
    "        'kh': 'kh', 'gh': 'gh', 'th': 'th', 'dh': 'dh',\n",
    "        'ph': 'ph', 'bh': 'bh', 'v': 'v',\n",
    "    }\n",
    "    for old, new in replacements.items():\n",
    "        text = text.replace(old, new)\n",
    "    return text.lower()"
   ]
  },
  {
   "cell_type": "code",
   "execution_count": null,
   "metadata": {},
   "outputs": [],
   "source": [
    "# Transliterate if not English\n",
    "def transliterate_if_needed(comment, lang):\n",
    "    if lang != 'en':\n",
    "        try:\n",
    "            raw = transliterate(comment, sanscript.DEVANAGARI, sanscript.ITRANS)\n",
    "            return fix_transliteration(raw)\n",
    "        except:\n",
    "            return comment\n",
    "    return comment"
   ]
  },
  {
   "cell_type": "code",
   "execution_count": null,
   "metadata": {},
   "outputs": [],
   "source": [
    "# Apply cleaning\n",
    "df['Cleaned_Comment'] = df['Comment'].apply(clean_comment)\n",
    "df['Lang'] = df['Cleaned_Comment'].apply(get_language)\n",
    "df['Cleaned_Comment'] = df.apply(\n",
    "    lambda row: transliterate_if_needed(row['Cleaned_Comment'], row['Lang']), axis=1\n",
    ")"
   ]
  },
  {
   "cell_type": "code",
   "execution_count": null,
   "metadata": {},
   "outputs": [],
   "source": [
    "# Save to CSV\n",
    "final_df = df[['Comment', 'Cleaned_Comment']\n",
    "final_df.columns = ['Original_Comment', 'Cleaned_Comment']\n",
    "# final_df.to_csv('Cleaned_Comments.csv', index=False)"
   ]
  },
  {
   "cell_type": "code",
   "execution_count": null,
   "metadata": {},
   "outputs": [],
   "source": [
    "# Generate a unique filename using current timestamp\n",
    "timestamp = datetime.now().strftime(\"%Y%m%d_%H%M%S\")\n",
    "output_filename = f\"Cleaned_Comments_{timestamp}.csv\"\n",
    "final_df.to_csv(output_filename, index=False)"
   ]
  }
 ],
 "metadata": {
  "kernelspec": {
   "display_name": "base",
   "language": "python",
   "name": "python3"
  },
  "language_info": {
   "codemirror_mode": {
    "name": "ipython",
    "version": 3
   },
   "file_extension": ".py",
   "mimetype": "text/x-python",
   "name": "python",
   "nbconvert_exporter": "python",
   "pygments_lexer": "ipython3",
   "version": "3.12.2"
  },
  "orig_nbformat": 4
 },
 "nbformat": 4,
 "nbformat_minor": 2
}
