{
 "cells": [
  {
   "cell_type": "code",
   "execution_count": 1,
   "metadata": {},
   "outputs": [
    {
     "name": "stdout",
     "output_type": "stream",
     "text": [
      "Requirement already satisfied: pandas in /opt/anaconda3/lib/python3.12/site-packages (2.2.3)\n",
      "Requirement already satisfied: openpyxl in /opt/anaconda3/lib/python3.12/site-packages (3.1.5)\n",
      "Requirement already satisfied: langdetect in /opt/anaconda3/lib/python3.12/site-packages (1.0.9)\n",
      "Requirement already satisfied: emoji in /opt/anaconda3/lib/python3.12/site-packages (2.14.1)\n",
      "Requirement already satisfied: numpy>=1.26.0 in /opt/anaconda3/lib/python3.12/site-packages (from pandas) (1.26.4)\n",
      "Requirement already satisfied: python-dateutil>=2.8.2 in /opt/anaconda3/lib/python3.12/site-packages (from pandas) (2.9.0.post0)\n",
      "Requirement already satisfied: pytz>=2020.1 in /opt/anaconda3/lib/python3.12/site-packages (from pandas) (2024.1)\n",
      "Requirement already satisfied: tzdata>=2022.7 in /opt/anaconda3/lib/python3.12/site-packages (from pandas) (2023.3)\n",
      "Requirement already satisfied: et-xmlfile in /opt/anaconda3/lib/python3.12/site-packages (from openpyxl) (1.1.0)\n",
      "Requirement already satisfied: six in /opt/anaconda3/lib/python3.12/site-packages (from langdetect) (1.16.0)\n"
     ]
    }
   ],
   "source": [
    "!pip install pandas openpyxl langdetect emoji"
   ]
  },
  {
   "cell_type": "code",
   "execution_count": 2,
   "metadata": {},
   "outputs": [],
   "source": [
    "import pandas as pd\n",
    "import re\n",
    "import csv\n",
    "from langdetect import detect  # For language detection\n",
    "import emoji  # For emoji handling"
   ]
  },
  {
   "cell_type": "code",
   "execution_count": 3,
   "metadata": {},
   "outputs": [],
   "source": [
    "# Function to remove @mentions\n",
    "def remove_mentions(text):\n",
    "    return re.sub(r'@{1}[a-zA-Z0-9_.]+', '', text).strip()"
   ]
  },
  {
   "cell_type": "code",
   "execution_count": 4,
   "metadata": {},
   "outputs": [],
   "source": [
    "# Function to detect if text is predominantly English\n",
    "def is_english(text):\n",
    "    try:\n",
    "        # Remove emojis and mentions first for cleaner detection\n",
    "        text_no_emoji = emoji.replace_emoji(text, replace='')\n",
    "        text_clean = remove_mentions(text_no_emoji)\n",
    "        if not text_clean:  # Skip empty strings\n",
    "            return False\n",
    "        lang = detect(text_clean)\n",
    "        return lang == 'en'\n",
    "    except:\n",
    "        return False"
   ]
  },
  {
   "cell_type": "code",
   "execution_count": 5,
   "metadata": {},
   "outputs": [],
   "source": [
    "# Function to replace emojis with descriptions\n",
    "def replace_emojis(text):\n",
    "    return emoji.replace_emoji(text, replace=lambda chars, data_dict: data_dict['en'].replace(':', ' ').strip())"
   ]
  },
  {
   "cell_type": "code",
   "execution_count": 7,
   "metadata": {},
   "outputs": [],
   "source": [
    "# Read the Excel file\n",
    "input_file = \"/Users/hemanthnagulapalli/Desktop/hinglish_data/Indo-HateSpeech_Dataset-dc1.xlsx\"  \n",
    "df = pd.read_excel(input_file)"
   ]
  },
  {
   "cell_type": "code",
   "execution_count": 8,
   "metadata": {},
   "outputs": [],
   "source": [
    "# Ensure the column name is \"Comment\"\n",
    "if \"Comment\" not in df.columns:\n",
    "    raise ValueError(\"The Excel file must contain a column named 'Comment'\")"
   ]
  },
  {
   "cell_type": "code",
   "execution_count": 9,
   "metadata": {},
   "outputs": [],
   "source": [
    "# Process the data\n",
    "cleaned_data = []\n",
    "for comment in df[\"Comment\"]:\n",
    "    actual_comment = str(comment).strip()  # Convert to string to handle NaN or other types\n",
    "    if not actual_comment:  # Skip empty rows\n",
    "        continue\n",
    "    \n",
    "    # Check if the row is English\n",
    "    if is_english(actual_comment):\n",
    "        # Clean the comment\n",
    "        cleaned_comment = remove_mentions(actual_comment)\n",
    "        cleaned_comment = replace_emojis(cleaned_comment)\n",
    "        cleaned_data.append([actual_comment, cleaned_comment])\n",
    "    else:\n",
    "        cleaned_data.append([actual_comment, \"[Removed: Non-English]\"])"
   ]
  },
  {
   "cell_type": "code",
   "execution_count": 10,
   "metadata": {},
   "outputs": [
    {
     "name": "stdout",
     "output_type": "stream",
     "text": [
      "CSV file 'cleaned_data.csv' has been created successfully!\n"
     ]
    }
   ],
   "source": [
    "# Write to CSV\n",
    "output_file = \"cleaned_data.csv\"\n",
    "with open(output_file, 'w', newline='', encoding='utf-8') as csvfile:\n",
    "    writer = csv.writer(csvfile)\n",
    "    writer.writerow([\"Actual Comment\", \"Cleaned Comment\"])  # Header\n",
    "    writer.writerows(cleaned_data)\n",
    "\n",
    "print(f\"CSV file '{output_file}' has been created successfully!\")"
   ]
  }
 ],
 "metadata": {
  "kernelspec": {
   "display_name": "base",
   "language": "python",
   "name": "python3"
  },
  "language_info": {
   "codemirror_mode": {
    "name": "ipython",
    "version": 3
   },
   "file_extension": ".py",
   "mimetype": "text/x-python",
   "name": "python",
   "nbconvert_exporter": "python",
   "pygments_lexer": "ipython3",
   "version": "3.12.2"
  },
  "orig_nbformat": 4
 },
 "nbformat": 4,
 "nbformat_minor": 2
}
